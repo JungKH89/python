{
 "cells": [
  {
   "cell_type": "markdown",
   "metadata": {},
   "source": [
    "# <숫자형을 활용한 사칙연산>"
   ]
  },
  {
   "cell_type": "code",
   "execution_count": 19,
   "metadata": {},
   "outputs": [
    {
     "name": "stdout",
     "output_type": "stream",
     "text": [
      "135.456\n",
      "1532.088\n",
      "9.8747591522158\n",
      "144\n",
      "3\n"
     ]
    }
   ],
   "source": [
    "#파이썬 사칙연산\n",
    "integer_value = 123\n",
    "float_value = 12.456\n",
    "\n",
    "# 1. 더하기 연산\n",
    "sum = integer_value+float_value\n",
    "print(sum)\n",
    "\n",
    "# 2. 곱하기 연산\n",
    "multiple = integer_value*float_value\n",
    "print(multiple)\n",
    "\n",
    "# 3. 나누기 연산\n",
    "division = integer_value/float_value\n",
    "print(division)\n",
    "\n",
    "# 4. 제곱연산\n",
    "integer_value2 = int(float_value)\n",
    "exponential = integer_value2**2\n",
    "print(exponential)\n",
    "\n",
    "# 5. 나머지 연산\n",
    "mod = integer_value%int(float_value)\n",
    "print(mod)"
   ]
  },
  {
   "cell_type": "markdown",
   "metadata": {},
   "source": [
    "# <문자열 연산하기 / 문자열 관련 함수>"
   ]
  },
  {
   "cell_type": "markdown",
   "metadata": {},
   "source": [
    "#### (1) 문자열 더하기"
   ]
  },
  {
   "cell_type": "code",
   "execution_count": 20,
   "metadata": {},
   "outputs": [
    {
     "name": "stdout",
     "output_type": "stream",
     "text": [
      "polytech student\n"
     ]
    }
   ],
   "source": [
    "head = \"polytech\"\n",
    "tail = \"student\"\n",
    "fullString = head+\" \"+tail\n",
    "print(fullString)"
   ]
  },
  {
   "cell_type": "markdown",
   "metadata": {},
   "source": [
    "#### (2) 문자열 곱하기"
   ]
  },
  {
   "cell_type": "code",
   "execution_count": 21,
   "metadata": {},
   "outputs": [
    {
     "name": "stdout",
     "output_type": "stream",
     "text": [
      "******************** 문자열 연산 프로그램 ********************\n"
     ]
    }
   ],
   "source": [
    "print(\"*\"*20+\" 문자열 연산 프로그램 \"+\"*\"*20)"
   ]
  },
  {
   "cell_type": "markdown",
   "metadata": {},
   "source": [
    "##### (3) 문자열 인덱싱 0부터 시작"
   ]
  },
  {
   "cell_type": "code",
   "execution_count": 22,
   "metadata": {},
   "outputs": [
    {
     "name": "stdout",
     "output_type": "stream",
     "text": [
      "2\n",
      "2018\n",
      "01\n"
     ]
    }
   ],
   "source": [
    "yearweek = \"201801\"\n",
    "print(yearweek[0])   #첫번째 문자열 \n",
    "print(yearweek[0:4]) #0~4번째 전 문자열\n",
    "print(yearweek[4:])  #4번째부터 끝까지"
   ]
  },
  {
   "cell_type": "markdown",
   "metadata": {},
   "source": [
    "#### (4) 그 외 함수들"
   ]
  },
  {
   "cell_type": "code",
   "execution_count": 1,
   "metadata": {},
   "outputs": [
    {
     "name": "stdout",
     "output_type": "stream",
     "text": [
      "1\n",
      "4\n",
      "['201728']\n",
      "['2017', '28']\n"
     ]
    }
   ],
   "source": [
    "# 문자열 개수세기\n",
    "yearweek = \"2017W28\"\n",
    "print(yearweek.count('W'))\n",
    "\n",
    "# 문자열 위치확인\n",
    "\n",
    "print(yearweek.index('W'))\n",
    "delimeter=yearweek.index('W')\n",
    "yearweek_new = yearweek[:delimeter]+yearweek[delimeter+1:]\n",
    "print([yearweek_new])\n",
    "\n",
    "# 이외 upper, lower, replace\n",
    "\n",
    "# split 함수\n",
    "\n",
    "yearweek_list = yearweek.split(\"W\")\n",
    "print(yearweek_list)"
   ]
  },
  {
   "cell_type": "markdown",
   "metadata": {},
   "source": [
    "#### 예제 ( 대문자/W삭제/split )"
   ]
  },
  {
   "cell_type": "code",
   "execution_count": 38,
   "metadata": {},
   "outputs": [
    {
     "name": "stdout",
     "output_type": "stream",
     "text": [
      "['SEC', '201828', '250']\n",
      "SEC\n",
      "201828\n",
      "250\n"
     ]
    }
   ],
   "source": [
    "str = \"Sec 2018W28 250\"\n",
    "\n",
    "str_list = str_new.upper().split(\" \")\n",
    "print(str_list)\n",
    "\n",
    "stock_name = str_list[0]\n",
    "date = str_list[1].replace(\"W\",'')\n",
    "value = str_list[2]\n",
    "\n",
    "print(stock_name)\n",
    "print(date)\n",
    "print(value)"
   ]
  },
  {
   "cell_type": "markdown",
   "metadata": {},
   "source": [
    "# <리스트-List>"
   ]
  },
  {
   "cell_type": "markdown",
   "metadata": {},
   "source": [
    "#### (1) 리스트 연산"
   ]
  },
  {
   "cell_type": "code",
   "execution_count": 40,
   "metadata": {
    "scrolled": true
   },
   "outputs": [
    {
     "name": "stdout",
     "output_type": "stream",
     "text": [
      "['SEC', 120, 130, [201712, 201713]]\n",
      "120\n",
      "[201712, 201713]\n",
      "201712\n",
      "['SEC', 120, 130]\n"
     ]
    }
   ],
   "source": [
    "stockName = [\"SEC\"]\n",
    "priceList = [120,130]\n",
    "dateList = [201712,201713]\n",
    "\n",
    "secinfo = stockName+priceList+[dateList]\n",
    "print(secinfo)\n",
    "\n",
    "#리스트 인덱싱\n",
    "#secinfo=[\"SEC\",120,130,[201712,201713]]\n",
    "print(secinfo[1])\n",
    "print(secinfo[3])\n",
    "print(secinfo[3][0])\n",
    "print(secinfo[0:3])"
   ]
  },
  {
   "cell_type": "markdown",
   "metadata": {},
   "source": [
    "#### (2) 리스트값 업데이트/삭제"
   ]
  },
  {
   "cell_type": "code",
   "execution_count": 46,
   "metadata": {},
   "outputs": [
    {
     "name": "stdout",
     "output_type": "stream",
     "text": [
      "[120, 130, 140, 150]\n",
      "[120, 130, 180, 150]\n",
      "[120, 130, 180]\n",
      "[120]\n"
     ]
    }
   ],
   "source": [
    "#리스트 값 업데이트 하기\n",
    "updateList = [120,130,140,150]\n",
    "print(updateList)\n",
    "updateList[2] = 180\n",
    "print(updateList)\n",
    "\n",
    "#리스트 값 삭제하기\n",
    "del updateList[3]\n",
    "print(updateList)\n",
    "\n",
    "#리스트 값 삭제하기 구간 1<=인덱스<3\n",
    "updateList[1:3]=[]\n",
    "print(updateList)"
   ]
  },
  {
   "cell_type": "markdown",
   "metadata": {},
   "source": [
    "#### (3) 리스트 관련 주요함수_1"
   ]
  },
  {
   "cell_type": "code",
   "execution_count": 1,
   "metadata": {
    "scrolled": false
   },
   "outputs": [
    {
     "name": "stdout",
     "output_type": "stream",
     "text": [
      "[120, 130, 140, 150, 100, 11, 12]\n",
      "[11, 12, 100, 120, 130, 140, 150]\n",
      "6\n",
      "7\n",
      "11\n",
      "150\n",
      "663\n"
     ]
    }
   ],
   "source": [
    "functionList = [120,130,140,150]\n",
    "\n",
    "#리스트에 요소 추가하기\n",
    "functionList.append(100)  # functionList.insert(3,100) 3번째 인덱스에 추가\n",
    "functionList.extend([11,12])\n",
    "print(functionList)\n",
    "\n",
    "#리스트 정렬하기\n",
    "functionList.sort(reverse = False)\n",
    "print(functionList)\n",
    "\n",
    "#값으로 인덱스 가져오기\n",
    "print(functionList.index(150))\n",
    "\n",
    "#리스트 자주사용하는 함수\n",
    "print(len(functionList))\n",
    "print(min(functionList))\n",
    "print(max(functionList))\n",
    "print(sum(functionList))"
   ]
  },
  {
   "cell_type": "markdown",
   "metadata": {},
   "source": [
    "#### (4) 리스트 관련 주요함수_2"
   ]
  },
  {
   "cell_type": "code",
   "execution_count": 4,
   "metadata": {},
   "outputs": [
    {
     "data": {
      "text/plain": [
       "[120, 130, 140, 150]"
      ]
     },
     "execution_count": 4,
     "metadata": {},
     "output_type": "execute_result"
    }
   ],
   "source": [
    "#리스트에 요소 개수 세기\n",
    "functionList = [120,130,140,150,120]\n",
    "functionList.count(120)  # 2개\n",
    "\n",
    "#리스트에 요소 빼기 (마지막 요소 빠짐)\n",
    "functionList.pop()\n",
    "functionList"
   ]
  },
  {
   "cell_type": "markdown",
   "metadata": {},
   "source": [
    "#### 예제 ( 최소값, 최대값 빼서 평균 )"
   ]
  },
  {
   "cell_type": "code",
   "execution_count": 14,
   "metadata": {},
   "outputs": [
    {
     "name": "stdout",
     "output_type": "stream",
     "text": [
      "2000\n",
      "100\n",
      "414.0\n"
     ]
    },
    {
     "data": {
      "text/plain": [
       "[120, 150, 300, 500, 1000]"
      ]
     },
     "execution_count": 14,
     "metadata": {},
     "output_type": "execute_result"
    }
   ],
   "source": [
    "myList = [120,150,300,500,1000,100,2000]\n",
    "maxValue = max(myList)\n",
    "print(maxValue)\n",
    "minValue = min(myList)\n",
    "print(minValue)\n",
    "\n",
    "myList.pop(myList.index(minValue))\n",
    "myList.pop(myList.index(maxValue))\n",
    "\n",
    "averagelist = sum(myList) / len(myList)\n",
    "print(averagelist)\n",
    "\n",
    "myList"
   ]
  },
  {
   "cell_type": "markdown",
   "metadata": {},
   "source": [
    "# < Dictionary >"
   ]
  },
  {
   "cell_type": "markdown",
   "metadata": {},
   "source": [
    "#### (1) dictionaty 관련 함수\n"
   ]
  },
  {
   "cell_type": "code",
   "execution_count": 17,
   "metadata": {
    "scrolled": false
   },
   "outputs": [
    {
     "name": "stdout",
     "output_type": "stream",
     "text": [
      "{'name': 'sec', 'id': '300000', 'address': 'suwon'}\n",
      "sec\n",
      "{'name': 'sec2', 'id': '300000', 'address': 'suwon', 'stock': 'yes'}\n",
      "yes\n",
      "{'name': 'sec2', 'address': 'suwon', 'stock': 'yes'}\n"
     ]
    }
   ],
   "source": [
    "dic = {\"name\":\"sec\",\"id\":\"300000\",\"address\":\"suwon\"}\n",
    "print(dic)\n",
    "print(dic['name'])\n",
    "\n",
    "# dictional key value 추가/변경\n",
    "dic[\"name\"] = \"sec2\"\n",
    "dic[\"stock\"] = \"yes\"\n",
    "print(dic)\n",
    "print(dic[\"stock\"])\n",
    "\n",
    "# diction 요소 삭제하기\n",
    "del dic[\"id\"]\n",
    "print(dic)"
   ]
  },
  {
   "cell_type": "markdown",
   "metadata": {},
   "source": [
    "#### 예제 ( dictionary 요소 삭제 )"
   ]
  },
  {
   "cell_type": "code",
   "execution_count": 19,
   "metadata": {},
   "outputs": [
    {
     "name": "stdout",
     "output_type": "stream",
     "text": [
      "{'name': 'sec', 'address': 'suwon'}\n"
     ]
    }
   ],
   "source": [
    "dic = {\"name\":\"sec\",\"id\":\"300000\",\"address\":\"suwon\"}\n",
    "del dic[\"id\"]\n",
    "\n",
    "print(dic)"
   ]
  },
  {
   "cell_type": "code",
   "execution_count": 20,
   "metadata": {},
   "outputs": [
    {
     "name": "stdout",
     "output_type": "stream",
     "text": [
      "sec\n",
      "suwon\n"
     ]
    }
   ],
   "source": [
    "# for문 이렇게 쓸 수 있음\n",
    "for k,v in dic.items():\n",
    "    print(v)"
   ]
  }
 ],
 "metadata": {
  "kernelspec": {
   "display_name": "Python 3",
   "language": "python",
   "name": "python3"
  },
  "language_info": {
   "codemirror_mode": {
    "name": "ipython",
    "version": 3
   },
   "file_extension": ".py",
   "mimetype": "text/x-python",
   "name": "python",
   "nbconvert_exporter": "python",
   "pygments_lexer": "ipython3",
   "version": "3.6.4"
  }
 },
 "nbformat": 4,
 "nbformat_minor": 2
}
