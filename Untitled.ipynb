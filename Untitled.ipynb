{
 "cells": [
  {
   "cell_type": "markdown",
   "metadata": {},
   "source": [
    "# 숫자형을 활용한 사칙연산"
   ]
  },
  {
   "cell_type": "code",
   "execution_count": 19,
   "metadata": {},
   "outputs": [
    {
     "name": "stdout",
     "output_type": "stream",
     "text": [
      "135.456\n",
      "1532.088\n",
      "9.8747591522158\n",
      "144\n",
      "3\n"
     ]
    }
   ],
   "source": [
    "#파이썬 사칙연산\n",
    "integer_value = 123\n",
    "float_value = 12.456\n",
    "\n",
    "# 1. 더하기 연산\n",
    "sum = integer_value+float_value\n",
    "print(sum)\n",
    "\n",
    "# 2. 곱하기 연산\n",
    "multiple = integer_value*float_value\n",
    "print(multiple)\n",
    "\n",
    "# 3. 나누기 연산\n",
    "division = integer_value/float_value\n",
    "print(division)\n",
    "\n",
    "# 4. 제곱연산\n",
    "integer_value2 = int(float_value)\n",
    "exponential = integer_value2**2\n",
    "print(exponential)\n",
    "\n",
    "# 5. 나머지 연산\n",
    "mod = integer_value%int(float_value)\n",
    "print(mod)"
   ]
  },
  {
   "cell_type": "markdown",
   "metadata": {},
   "source": [
    "# 문자열 연산하기 / 문자열 관련 함수"
   ]
  },
  {
   "cell_type": "markdown",
   "metadata": {},
   "source": [
    "#### 문자열 더하기"
   ]
  },
  {
   "cell_type": "code",
   "execution_count": 20,
   "metadata": {},
   "outputs": [
    {
     "name": "stdout",
     "output_type": "stream",
     "text": [
      "polytech student\n"
     ]
    }
   ],
   "source": [
    "head = \"polytech\"\n",
    "tail = \"student\"\n",
    "fullString = head+\" \"+tail\n",
    "print(fullString)"
   ]
  },
  {
   "cell_type": "markdown",
   "metadata": {},
   "source": [
    "#### 문자열 곱하기"
   ]
  },
  {
   "cell_type": "code",
   "execution_count": 21,
   "metadata": {},
   "outputs": [
    {
     "name": "stdout",
     "output_type": "stream",
     "text": [
      "******************** 문자열 연산 프로그램 ********************\n"
     ]
    }
   ],
   "source": [
    "print(\"*\"*20+\" 문자열 연산 프로그램 \"+\"*\"*20)"
   ]
  },
  {
   "cell_type": "markdown",
   "metadata": {},
   "source": [
    "##### 문자열 인덱싱 0부터 시작"
   ]
  },
  {
   "cell_type": "code",
   "execution_count": 22,
   "metadata": {},
   "outputs": [
    {
     "name": "stdout",
     "output_type": "stream",
     "text": [
      "2\n",
      "2018\n",
      "01\n"
     ]
    }
   ],
   "source": [
    "yearweek = \"201801\"\n",
    "print(yearweek[0])   #첫번째 문자열 \n",
    "print(yearweek[0:4]) #0~4번째 전 문자열\n",
    "print(yearweek[4:])  #4번째부터 끝까지"
   ]
  },
  {
   "cell_type": "markdown",
   "metadata": {},
   "source": [
    "#### 문자열 개수세기"
   ]
  },
  {
   "cell_type": "code",
   "execution_count": 23,
   "metadata": {},
   "outputs": [
    {
     "name": "stdout",
     "output_type": "stream",
     "text": [
      "1\n"
     ]
    }
   ],
   "source": [
    "yearweek = \"2017W28\"\n",
    "print(yearweek.count('W'))"
   ]
  },
  {
   "cell_type": "markdown",
   "metadata": {},
   "source": [
    "#### 문자열 위치확인"
   ]
  },
  {
   "cell_type": "code",
   "execution_count": 24,
   "metadata": {},
   "outputs": [
    {
     "name": "stdout",
     "output_type": "stream",
     "text": [
      "4\n",
      "['201728']\n"
     ]
    }
   ],
   "source": [
    "print(yearweek.index('W'))\n",
    "delimeter=yearweek.index('W')\n",
    "yearweek_new = yearweek[:delimeter]+yearweek[delimeter+1:]\n",
    "print([yearweek_new])\n",
    "# 이외 upper, lower, replace"
   ]
  },
  {
   "cell_type": "markdown",
   "metadata": {},
   "source": [
    "#### split 함수"
   ]
  },
  {
   "cell_type": "code",
   "execution_count": 25,
   "metadata": {},
   "outputs": [
    {
     "name": "stdout",
     "output_type": "stream",
     "text": [
      "['2017', '28']\n"
     ]
    }
   ],
   "source": [
    "yearweek_list = yearweek.split(\"W\")\n",
    "print(yearweek_list)"
   ]
  }
 ],
 "metadata": {
  "kernelspec": {
   "display_name": "Python 3",
   "language": "python",
   "name": "python3"
  },
  "language_info": {
   "codemirror_mode": {
    "name": "ipython",
    "version": 3
   },
   "file_extension": ".py",
   "mimetype": "text/x-python",
   "name": "python",
   "nbconvert_exporter": "python",
   "pygments_lexer": "ipython3",
   "version": "3.6.4"
  }
 },
 "nbformat": 4,
 "nbformat_minor": 2
}
