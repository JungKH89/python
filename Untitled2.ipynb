{
 "cells": [
  {
   "cell_type": "markdown",
   "metadata": {},
   "source": [
    "# 데이터불러오기(from web)"
   ]
  },
  {
   "cell_type": "markdown",
   "metadata": {},
   "source": [
    "#### 1. 태그찾기(find)"
   ]
  },
  {
   "cell_type": "code",
   "execution_count": 6,
   "metadata": {},
   "outputs": [],
   "source": [
    "import requests, bs4, pandas as pd, numpy as np\n",
    " \n",
    "#웹페이지 html 소스 가져오기\n",
    "resp = requests.get('http://13.209.33.89:3333/quiz')\n",
    "resp.encoding='utf-8'"
   ]
  },
  {
   "cell_type": "code",
   "execution_count": 7,
   "metadata": {
    "scrolled": true
   },
   "outputs": [
    {
     "name": "stdout",
     "output_type": "stream",
     "text": [
      "<div class=\"class_py_quiz\" id=\"id_py_quiz\">\n",
      "<h1>Python 퀴즈 </h1>\n",
      "<a href=\"https://docs.google.com/forms/d/e/1FAIpQLScoGQuidGNCFerQZ6Dw5t6PndPPT62EvrncPLL3xLUfulRTyA/viewform?usp=sf_link\"> 6/14 파이썬 데이터 불러오기/저장하기 </a>\n",
      "<p></p>\n",
      "<a href=\"https://docs.google.com/forms/d/e/1FAIpQLSftZ-2VYfHB46FrwFG2HjbRDBtLSO0XP2BmiHh3iqwGoi3pQQ/viewform?usp=sf_link\"> 6/8 postgres 과제 </a>\n",
      "<p></p>\n",
      "<a href=\"https://docs.google.com/forms/d/e/1FAIpQLSeZBKjrZD1nAf4aAYhz_WEAqbzwPUPihgMEfXy74e0IMRwXKw/viewform?usp=sf_link\"> 6/8 파이썬 제어문 </a>\n",
      "<p></p>\n",
      "<a href=\"https://docs.google.com/forms/d/e/1FAIpQLSdvFbZGNm7rSGQO_daDSWHC8o1BNgZtIBajLaiOcvgV2iV0IA/viewform?usp=sf_link\"> 6/7 파이썬 자료형 </a>\n",
      "<p></p>\n",
      "<a href=\"https://docs.google.com/forms/d/e/1FAIpQLSehRuBYKpXNULxkamM8zVOd_mkFwZYwKtAp8Px0Kl0oCJbIeA/viewform?usp=sf_link\"> 5/31 파이썬 머신러닝 </a>\n",
      "<p></p>\n",
      "<a href=\"https://docs.google.com/forms/d/e/1FAIpQLSeVt843wk9MBxLj0N84q_8Vg4yL1jTrOygA5Cm3z-asPDY1sg/viewform?usp=sf_link\"> 5/24 파이썬 시작하기 </a>\n",
      "<p></p>\n",
      "</div>\n"
     ]
    }
   ],
   "source": [
    "html = resp.text\n",
    "bs = bs4.BeautifulSoup(html, 'html.parser')\n",
    "\n",
    "# html 부분구조 가져오기\n",
    "find_tag = bs.find(\"div\")\n",
    "print(find_tag)"
   ]
  },
  {
   "cell_type": "markdown",
   "metadata": {},
   "source": [
    "#### 2. 속성찾기"
   ]
  },
  {
   "cell_type": "code",
   "execution_count": 11,
   "metadata": {},
   "outputs": [
    {
     "name": "stdout",
     "output_type": "stream",
     "text": [
      "<div class=\"class_db_quiz\" id=\"id_db_quiz\">\n",
      "<h1>데이터베이스 퀴즈 </h1>\n",
      "<a href=\"https://docs.google.com/forms/d/e/1FAIpQLSff5TjqUq9u-jRxYZvTdB7k-N0AEjx0_WSIcLZCBfFiEfoRUA/viewform?usp=sf_link\"> 6/12 오라클 Join 퀴즈 </a>\n",
      "<p></p>\n",
      "<a href=\"https://docs.google.com/forms/d/e/1FAIpQLScP3ojzBNFbKbTFq4r58GqqZODYom1d6jrn09rmdqT57uByVA/viewform?usp=sf_link\"> 6/5 오라클 GroupBy 퀴즈 </a>\n",
      "<p></p>\n",
      "<a href=\"https://docs.google.com/forms/d/e/1FAIpQLSfU5Pv_GQOLV-SkrDirOGt4GLDP3sZpy-UPY4zsud2ODPknbA/viewform?usp=sf_link\"> 5/29 오라클 숫자/날짜 및 고급함수 </a>\n",
      "<p></p>\n",
      "<a href=\"https://docs.google.com/forms/d/e/1FAIpQLSdFuYrwaYE6HEzQft21Icj_2yPyQqkcSabuvnaWwO47v99XmA/viewform?usp=sf_link\"> 5/15 오라클 데이터 조회(함수활용)  </a>\n",
      "<p></p>\n",
      "<a href=\"https://docs.google.com/forms/d/e/1FAIpQLSd8MAsXIKIteOM4OFCggUoYeOqC5aGI-2aQFLV8533HkbTz-w/viewform?usp=sf_link\"> 5/8 오라클 원격접속 및 조회 </a>\n",
      "<p></p>\n",
      "<a href=\"https://docs.google.com/forms/d/e/1FAIpQLSeYl0KM70XWhjnTIVLfqX5H5tp2V3jx2bwJMyZrTSeak2HZWw/viewform?usp=sf_link\"> 4/10 무결성 제약조건 </a>\n",
      "</div>\n"
     ]
    }
   ],
   "source": [
    "# html 태그 속성으로 찾기\n",
    "#find_attr = bs.find(\"div\",{\"id\":\"id_db_quiz\"})\n",
    "#print(find_attr)\n",
    "\n",
    "\n",
    "find_attr1=bs.find(\"div\",{\"class\":\"class_db_quiz\"})\n",
    "print(find_attr1)"
   ]
  },
  {
   "cell_type": "code",
   "execution_count": 14,
   "metadata": {},
   "outputs": [
    {
     "name": "stdout",
     "output_type": "stream",
     "text": [
      "[<a href=\"https://docs.google.com/forms/d/e/1FAIpQLSff5TjqUq9u-jRxYZvTdB7k-N0AEjx0_WSIcLZCBfFiEfoRUA/viewform?usp=sf_link\"> 6/12 오라클 Join 퀴즈 </a>, <a href=\"https://docs.google.com/forms/d/e/1FAIpQLScP3ojzBNFbKbTFq4r58GqqZODYom1d6jrn09rmdqT57uByVA/viewform?usp=sf_link\"> 6/5 오라클 GroupBy 퀴즈 </a>, <a href=\"https://docs.google.com/forms/d/e/1FAIpQLSfU5Pv_GQOLV-SkrDirOGt4GLDP3sZpy-UPY4zsud2ODPknbA/viewform?usp=sf_link\"> 5/29 오라클 숫자/날짜 및 고급함수 </a>, <a href=\"https://docs.google.com/forms/d/e/1FAIpQLSdFuYrwaYE6HEzQft21Icj_2yPyQqkcSabuvnaWwO47v99XmA/viewform?usp=sf_link\"> 5/15 오라클 데이터 조회(함수활용)  </a>, <a href=\"https://docs.google.com/forms/d/e/1FAIpQLSd8MAsXIKIteOM4OFCggUoYeOqC5aGI-2aQFLV8533HkbTz-w/viewform?usp=sf_link\"> 5/8 오라클 원격접속 및 조회 </a>, <a href=\"https://docs.google.com/forms/d/e/1FAIpQLSeYl0KM70XWhjnTIVLfqX5H5tp2V3jx2bwJMyZrTSeak2HZWw/viewform?usp=sf_link\"> 4/10 무결성 제약조건 </a>]\n"
     ]
    }
   ],
   "source": [
    "# html 부분구조 가져오기\n",
    "find_attr = bs.find(\"div\",{\"id\":\"id_db_quiz\"})\n",
    "#find_part = find_attr.find(\"a\")\n",
    "find_part = find_attr.findAll(\"a\")  #이건 All\n",
    "print(find_part)"
   ]
  },
  {
   "cell_type": "code",
   "execution_count": null,
   "metadata": {},
   "outputs": [],
   "source": []
  },
  {
   "cell_type": "markdown",
   "metadata": {},
   "source": [
    "# 예제(퀴즈내 링크만 전부 for활용해 추출)"
   ]
  },
  {
   "cell_type": "code",
   "execution_count": 25,
   "metadata": {},
   "outputs": [
    {
     "name": "stdout",
     "output_type": "stream",
     "text": [
      "<a class=\"active\" href=\"/\">Home</a>\n",
      "<a href=\"/quiz\"> Quiz </a>\n",
      "<a href=\"/maps/add\">좌표 등록</a>\n",
      "<a href=\"/maps\">등록좌표 목록</a>\n",
      "<a href=\"/maps/geomap\">지도 화면</a>\n",
      "<a href=\"/maps/chart\">파이차트 화면</a>\n",
      "<a href=\"/maps/chartLine\">라인차트 화면</a>\n",
      "<a href=\"/maps/gitList\">git저장소 목록</a>\n",
      "<a href=\"/test\">test</a>\n",
      "<a href=\"https://docs.google.com/forms/d/e/1FAIpQLScoGQuidGNCFerQZ6Dw5t6PndPPT62EvrncPLL3xLUfulRTyA/viewform?usp=sf_link\"> 6/14 파이썬 데이터 불러오기/저장하기 </a>\n",
      "<a href=\"https://docs.google.com/forms/d/e/1FAIpQLSftZ-2VYfHB46FrwFG2HjbRDBtLSO0XP2BmiHh3iqwGoi3pQQ/viewform?usp=sf_link\"> 6/8 postgres 과제 </a>\n",
      "<a href=\"https://docs.google.com/forms/d/e/1FAIpQLSeZBKjrZD1nAf4aAYhz_WEAqbzwPUPihgMEfXy74e0IMRwXKw/viewform?usp=sf_link\"> 6/8 파이썬 제어문 </a>\n",
      "<a href=\"https://docs.google.com/forms/d/e/1FAIpQLSdvFbZGNm7rSGQO_daDSWHC8o1BNgZtIBajLaiOcvgV2iV0IA/viewform?usp=sf_link\"> 6/7 파이썬 자료형 </a>\n",
      "<a href=\"https://docs.google.com/forms/d/e/1FAIpQLSehRuBYKpXNULxkamM8zVOd_mkFwZYwKtAp8Px0Kl0oCJbIeA/viewform?usp=sf_link\"> 5/31 파이썬 머신러닝 </a>\n",
      "<a href=\"https://docs.google.com/forms/d/e/1FAIpQLSeVt843wk9MBxLj0N84q_8Vg4yL1jTrOygA5Cm3z-asPDY1sg/viewform?usp=sf_link\"> 5/24 파이썬 시작하기 </a>\n",
      "<a href=\"https://docs.google.com/forms/d/e/1FAIpQLScsDv_0mTFuJMqGfvrdjFAxVdeGOBpo8wOQSm5OiW1XcdBDFg/viewform?usp=sf_link\"> 5/3 Spark 심화과정-groupby</a>\n",
      "<a href=\"https://docs.google.com/forms/d/e/1FAIpQLSdNCn-NrLuFse4w2C36vqRPGUXtXDDsfLLxm-Sv9E7PwRwbrQ/viewform?usp=sf_link\"> 4/27 Spark 심화과정 </a>\n",
      "<a href=\"https://docs.google.com/forms/d/e/1FAIpQLSdfsGBmTFPfhZfFsKAOBOWx_x6f3mouhggIaYXbjW4EHbnBdA/viewform?usp=sf_link\"> 4/12 Spark 기본과정 </a>\n",
      "<a href=\"https://docs.google.com/forms/d/e/1FAIpQLSff5TjqUq9u-jRxYZvTdB7k-N0AEjx0_WSIcLZCBfFiEfoRUA/viewform?usp=sf_link\"> 6/12 오라클 Join 퀴즈 </a>\n",
      "<a href=\"https://docs.google.com/forms/d/e/1FAIpQLScP3ojzBNFbKbTFq4r58GqqZODYom1d6jrn09rmdqT57uByVA/viewform?usp=sf_link\"> 6/5 오라클 GroupBy 퀴즈 </a>\n",
      "<a href=\"https://docs.google.com/forms/d/e/1FAIpQLSfU5Pv_GQOLV-SkrDirOGt4GLDP3sZpy-UPY4zsud2ODPknbA/viewform?usp=sf_link\"> 5/29 오라클 숫자/날짜 및 고급함수 </a>\n",
      "<a href=\"https://docs.google.com/forms/d/e/1FAIpQLSdFuYrwaYE6HEzQft21Icj_2yPyQqkcSabuvnaWwO47v99XmA/viewform?usp=sf_link\"> 5/15 오라클 데이터 조회(함수활용)  </a>\n",
      "<a href=\"https://docs.google.com/forms/d/e/1FAIpQLSd8MAsXIKIteOM4OFCggUoYeOqC5aGI-2aQFLV8533HkbTz-w/viewform?usp=sf_link\"> 5/8 오라클 원격접속 및 조회 </a>\n",
      "<a href=\"https://docs.google.com/forms/d/e/1FAIpQLSeYl0KM70XWhjnTIVLfqX5H5tp2V3jx2bwJMyZrTSeak2HZWw/viewform?usp=sf_link\"> 4/10 무결성 제약조건 </a>\n"
     ]
    }
   ],
   "source": [
    "import requests, bs4, pandas as pd, numpy as np\n",
    " \n",
    "#웹페이지 html 소스 가져오기\n",
    "resp = requests.get('http://13.209.33.89:3333/quiz')\n",
    "resp.encoding='utf-8'\n",
    "\n",
    "html = resp.text\n",
    "bs = bs4.BeautifulSoup(html, 'html.parser')\n",
    "\n",
    "a_links = bs.findAll(\"a\")\n",
    "for a in a_links:\n",
    "    print(a)"
   ]
  },
  {
   "cell_type": "code",
   "execution_count": 28,
   "metadata": {
    "scrolled": true
   },
   "outputs": [
    {
     "name": "stdout",
     "output_type": "stream",
     "text": [
      " 6/14 파이썬 데이터 불러오기/저장하기  > https://docs.google.com/forms/d/e/1FAIpQLScoGQuidGNCFerQZ6Dw5t6PndPPT62EvrncPLL3xLUfulRTyA/viewform?usp=sf_link\n",
      " 6/8 postgres 과제  > https://docs.google.com/forms/d/e/1FAIpQLSftZ-2VYfHB46FrwFG2HjbRDBtLSO0XP2BmiHh3iqwGoi3pQQ/viewform?usp=sf_link\n",
      " 6/8 파이썬 제어문  > https://docs.google.com/forms/d/e/1FAIpQLSeZBKjrZD1nAf4aAYhz_WEAqbzwPUPihgMEfXy74e0IMRwXKw/viewform?usp=sf_link\n",
      " 6/7 파이썬 자료형  > https://docs.google.com/forms/d/e/1FAIpQLSdvFbZGNm7rSGQO_daDSWHC8o1BNgZtIBajLaiOcvgV2iV0IA/viewform?usp=sf_link\n",
      " 5/31 파이썬 머신러닝  > https://docs.google.com/forms/d/e/1FAIpQLSehRuBYKpXNULxkamM8zVOd_mkFwZYwKtAp8Px0Kl0oCJbIeA/viewform?usp=sf_link\n",
      " 5/24 파이썬 시작하기  > https://docs.google.com/forms/d/e/1FAIpQLSeVt843wk9MBxLj0N84q_8Vg4yL1jTrOygA5Cm3z-asPDY1sg/viewform?usp=sf_link\n",
      " 5/3 Spark 심화과정-groupby > https://docs.google.com/forms/d/e/1FAIpQLScsDv_0mTFuJMqGfvrdjFAxVdeGOBpo8wOQSm5OiW1XcdBDFg/viewform?usp=sf_link\n",
      " 4/27 Spark 심화과정  > https://docs.google.com/forms/d/e/1FAIpQLSdNCn-NrLuFse4w2C36vqRPGUXtXDDsfLLxm-Sv9E7PwRwbrQ/viewform?usp=sf_link\n",
      " 4/12 Spark 기본과정  > https://docs.google.com/forms/d/e/1FAIpQLSdfsGBmTFPfhZfFsKAOBOWx_x6f3mouhggIaYXbjW4EHbnBdA/viewform?usp=sf_link\n",
      " 6/12 오라클 Join 퀴즈  > https://docs.google.com/forms/d/e/1FAIpQLSff5TjqUq9u-jRxYZvTdB7k-N0AEjx0_WSIcLZCBfFiEfoRUA/viewform?usp=sf_link\n",
      " 6/5 오라클 GroupBy 퀴즈  > https://docs.google.com/forms/d/e/1FAIpQLScP3ojzBNFbKbTFq4r58GqqZODYom1d6jrn09rmdqT57uByVA/viewform?usp=sf_link\n",
      " 5/29 오라클 숫자/날짜 및 고급함수  > https://docs.google.com/forms/d/e/1FAIpQLSfU5Pv_GQOLV-SkrDirOGt4GLDP3sZpy-UPY4zsud2ODPknbA/viewform?usp=sf_link\n",
      " 5/15 오라클 데이터 조회(함수활용)   > https://docs.google.com/forms/d/e/1FAIpQLSdFuYrwaYE6HEzQft21Icj_2yPyQqkcSabuvnaWwO47v99XmA/viewform?usp=sf_link\n",
      " 5/8 오라클 원격접속 및 조회  > https://docs.google.com/forms/d/e/1FAIpQLSd8MAsXIKIteOM4OFCggUoYeOqC5aGI-2aQFLV8533HkbTz-w/viewform?usp=sf_link\n",
      " 4/10 무결성 제약조건  > https://docs.google.com/forms/d/e/1FAIpQLSeYl0KM70XWhjnTIVLfqX5H5tp2V3jx2bwJMyZrTSeak2HZWw/viewform?usp=sf_link\n"
     ]
    }
   ],
   "source": [
    "for a in a_links:\n",
    "    #a 링크 내 href속성\n",
    "    href = a.attrs[\"href\"]\n",
    "    #a 링크 텍스트\n",
    "    text = a.text\n",
    "    if(href.startswith(\"/\")):\n",
    "        continue;\n",
    "    print(text,\">\",href)"
   ]
  },
  {
   "cell_type": "code",
   "execution_count": null,
   "metadata": {},
   "outputs": [],
   "source": []
  },
  {
   "cell_type": "code",
   "execution_count": 30,
   "metadata": {},
   "outputs": [
    {
     "name": "stdout",
     "output_type": "stream",
     "text": [
      "usd/krw=  1,082.70\n"
     ]
    }
   ],
   "source": [
    "import requests, bs4, pandas as pd, numpy as np\n",
    " \n",
    "#웹페이지 html 소스 가져오기\n",
    "resp = requests.get(\"http://finance.naver.com/marketindex/\")\n",
    "resp.encoding='utf-8'\n",
    "html = resp.text\n",
    "\n",
    "bs = bs4.BeautifulSoup(html, 'html.parser')\n",
    "\n",
    "# 데이터 추출하기\n",
    "price = bs.select_one(\"div.head_info > span.value\").string\n",
    "print(\"usd/krw= \", price)"
   ]
  },
  {
   "cell_type": "code",
   "execution_count": 31,
   "metadata": {},
   "outputs": [
    {
     "data": {
      "text/html": [
       "<div>\n",
       "<style scoped>\n",
       "    .dataframe tbody tr th:only-of-type {\n",
       "        vertical-align: middle;\n",
       "    }\n",
       "\n",
       "    .dataframe tbody tr th {\n",
       "        vertical-align: top;\n",
       "    }\n",
       "\n",
       "    .dataframe thead th {\n",
       "        text-align: right;\n",
       "    }\n",
       "</style>\n",
       "<table border=\"1\" class=\"dataframe\">\n",
       "  <thead>\n",
       "    <tr style=\"text-align: right;\">\n",
       "      <th></th>\n",
       "      <th>title</th>\n",
       "    </tr>\n",
       "  </thead>\n",
       "  <tbody>\n",
       "    <tr>\n",
       "      <th>0</th>\n",
       "      <td>1,082.70</td>\n",
       "    </tr>\n",
       "  </tbody>\n",
       "</table>\n",
       "</div>"
      ],
      "text/plain": [
       "      title\n",
       "0  1,082.70"
      ]
     },
     "execution_count": 31,
     "metadata": {},
     "output_type": "execute_result"
    }
   ],
   "source": [
    "# 리스트 초기화 및 데이터 담기\n",
    "outList = []\n",
    "outList.append(price)\n",
    "\n",
    "# 리스트 pandas 데이터 프레임으로 변환 및 컬럼 정의\n",
    "outDf = pd.DataFrame(np.array(outList).reshape(1,1))\n",
    "outDf.columns = ['title']\n",
    "# CSV 파일로 저장, encondig 한글깨짐 방지\n",
    "#outDf.to_csv(\"../dataset/webData.csv\", encoding='utf-8-sig',index=False)\n",
    "outDf"
   ]
  },
  {
   "cell_type": "code",
   "execution_count": null,
   "metadata": {},
   "outputs": [],
   "source": []
  },
  {
   "cell_type": "code",
   "execution_count": 78,
   "metadata": {},
   "outputs": [
    {
     "data": {
      "text/html": [
       "<div>\n",
       "<style scoped>\n",
       "    .dataframe tbody tr th:only-of-type {\n",
       "        vertical-align: middle;\n",
       "    }\n",
       "\n",
       "    .dataframe tbody tr th {\n",
       "        vertical-align: top;\n",
       "    }\n",
       "\n",
       "    .dataframe thead th {\n",
       "        text-align: right;\n",
       "    }\n",
       "</style>\n",
       "<table border=\"1\" class=\"dataframe\">\n",
       "  <thead>\n",
       "    <tr style=\"text-align: right;\">\n",
       "      <th></th>\n",
       "      <th>geo_name</th>\n",
       "      <th>longitude</th>\n",
       "      <th>latitude</th>\n",
       "      <th>Action</th>\n",
       "    </tr>\n",
       "  </thead>\n",
       "  <tbody>\n",
       "  </tbody>\n",
       "</table>\n",
       "</div>"
      ],
      "text/plain": [
       "Empty DataFrame\n",
       "Columns: [geo_name, longitude, latitude, Action]\n",
       "Index: []"
      ]
     },
     "execution_count": 78,
     "metadata": {},
     "output_type": "execute_result"
    }
   ],
   "source": [
    "import requests, bs4, pandas as pd, numpy as np\n",
    " \n",
    "#웹페이지 html 소스 가져오기\n",
    "resp = requests.get('http://13.209.33.89:3333/maps')\n",
    "resp.encoding='utf-8'\n",
    "html = resp.text\n",
    "bs = bs4.BeautifulSoup(html, 'html.parser')\n",
    "\n",
    "# html 부분구조 가져오기\n",
    "columns=bs.select('table > thead > tr > th')\n",
    "columns\n",
    "\n",
    "columnlist=[]\n",
    "for column in columns:\n",
    "    columnlist.append(column.text)\n",
    "df=pd.DataFrame(columns=columnlist)\n",
    "\n",
    "df"
   ]
  },
  {
   "cell_type": "code",
   "execution_count": 79,
   "metadata": {},
   "outputs": [
    {
     "data": {
      "text/html": [
       "<div>\n",
       "<style scoped>\n",
       "    .dataframe tbody tr th:only-of-type {\n",
       "        vertical-align: middle;\n",
       "    }\n",
       "\n",
       "    .dataframe tbody tr th {\n",
       "        vertical-align: top;\n",
       "    }\n",
       "\n",
       "    .dataframe thead th {\n",
       "        text-align: right;\n",
       "    }\n",
       "</style>\n",
       "<table border=\"1\" class=\"dataframe\">\n",
       "  <thead>\n",
       "    <tr style=\"text-align: right;\">\n",
       "      <th></th>\n",
       "      <th>geo_name</th>\n",
       "      <th>longitude</th>\n",
       "      <th>latitude</th>\n",
       "      <th>Action</th>\n",
       "    </tr>\n",
       "  </thead>\n",
       "  <tbody>\n",
       "    <tr>\n",
       "      <th>0</th>\n",
       "      <td>polytech_kangseo2</td>\n",
       "      <td>126.840918</td>\n",
       "      <td>37.549506</td>\n",
       "      <td>\\n\\nEdit                              \\n      ...</td>\n",
       "    </tr>\n",
       "    <tr>\n",
       "      <th>1</th>\n",
       "      <td>coffeekorea_seulleng</td>\n",
       "      <td>127.0478832</td>\n",
       "      <td>37.50567504</td>\n",
       "      <td>\\n\\nEdit                              \\n      ...</td>\n",
       "    </tr>\n",
       "  </tbody>\n",
       "</table>\n",
       "</div>"
      ],
      "text/plain": [
       "               geo_name    longitude     latitude  \\\n",
       "0     polytech_kangseo2   126.840918    37.549506   \n",
       "1  coffeekorea_seulleng  127.0478832  37.50567504   \n",
       "\n",
       "                                              Action  \n",
       "0  \\n\\nEdit                              \\n      ...  \n",
       "1  \\n\\nEdit                              \\n      ...  "
      ]
     },
     "execution_count": 79,
     "metadata": {},
     "output_type": "execute_result"
    }
   ],
   "source": [
    "contents=bs.select('table  > tbody > tr#trbody')\n",
    "dfcontent=[]\n",
    "alldfcontents=[]\n",
    "for content in contents:\n",
    "    tds=content.findAll(\"td\")\n",
    "    for td in tds:\n",
    "        if(td.text==\"None\"):\n",
    "            continue;\n",
    "        dfcontent.append(td.text)\n",
    "    alldfcontents.append(dfcontent)\n",
    "    dfcontent=[]\n",
    "df=pd.DataFrame(columns=columnlist, data=alldfcontents)\n",
    "df"
   ]
  },
  {
   "cell_type": "code",
   "execution_count": null,
   "metadata": {},
   "outputs": [],
   "source": []
  },
  {
   "cell_type": "code",
   "execution_count": null,
   "metadata": {},
   "outputs": [],
   "source": []
  },
  {
   "cell_type": "code",
   "execution_count": 97,
   "metadata": {},
   "outputs": [],
   "source": [
    "import requests, bs4, pandas as pd, numpy as np\n",
    "resp = requests.get('http://13.209.33.89:3333/maps/gitList')\n",
    "resp.encoding='utf-8'\n",
    "html=resp.text\n",
    "bs = bs4.BeautifulSoup(html, 'html.parser')"
   ]
  },
  {
   "cell_type": "code",
   "execution_count": 98,
   "metadata": {},
   "outputs": [
    {
     "name": "stdout",
     "output_type": "stream",
     "text": [
      "Empty DataFrame\n",
      "Columns: [순번, 학생 이름, GIT 주소(뒷부분), 수정]\n",
      "Index: []\n",
      "    no            name    git_address  \\\n",
      "0    1  KIM GANG RYONG         wovmxl   \n",
      "1    2     KIM DO WOON      dowoonkim   \n",
      "2    3     KIM EUI JIN          doogn   \n",
      "3    4   NOH YOUNG WOO      ppoocoder   \n",
      "4    5  PARK SEUNG JIN         tmdwls   \n",
      "5    6    SUNG HAN BIN     sunghanbin   \n",
      "6    7   SHIN SUNG WOO      sinletsgo   \n",
      "7    8       OH MI JIN        ohmijin   \n",
      "8    9   LEE DONG GEUN          awd45   \n",
      "9   10    LEE WOO SEOK        creed35   \n",
      "10  11     LEE EUN SIL    milklandcoo   \n",
      "11  12     LEE HAN MIN         yumras   \n",
      "12  13     LEE HYO JAE        freespa   \n",
      "13  14  JUNG KYUNG HWA       JungKH89   \n",
      "14  15  JEONG YU SEOCK    jeongyuseoc   \n",
      "15  16    JUNG HYO JAE      jamiewell   \n",
      "16  17   CHO DONG YEOK       jody0406   \n",
      "17  18   JO JEONG YEON          hera7   \n",
      "18  19   CHAE SUNG EUN     sechae0528   \n",
      "19  20  CHOI KYUNG JAE        ckt9636   \n",
      "20  21   CHOI DONG HUN    MakeBelieve   \n",
      "21  22   CHOI MIN SUNG       sakurac0   \n",
      "22  23     HA TAE YANG      hataeyang   \n",
      "23  24    YOON SUNG HO     youtoo1116   \n",
      "24  25     KIM JI SUNG       binggugu   \n",
      "25  26    CHOI MIN HAN  do not submit   \n",
      "\n",
      "                                                 edit  \n",
      "0   \\n\\nEdit                              \\r\\n    ...  \n",
      "1   \\n\\nEdit                              \\r\\n    ...  \n",
      "2   \\n\\nEdit                              \\r\\n    ...  \n",
      "3   \\n\\nEdit                              \\r\\n    ...  \n",
      "4   \\n\\nEdit                              \\r\\n    ...  \n",
      "5   \\n\\nEdit                              \\r\\n    ...  \n",
      "6   \\n\\nEdit                              \\r\\n    ...  \n",
      "7   \\n\\nEdit                              \\r\\n    ...  \n",
      "8   \\n\\nEdit                              \\r\\n    ...  \n",
      "9   \\n\\nEdit                              \\r\\n    ...  \n",
      "10  \\n\\nEdit                              \\r\\n    ...  \n",
      "11  \\n\\nEdit                              \\r\\n    ...  \n",
      "12  \\n\\nEdit                              \\r\\n    ...  \n",
      "13  \\n\\nEdit                              \\r\\n    ...  \n",
      "14  \\n\\nEdit                              \\r\\n    ...  \n",
      "15  \\n\\nEdit                              \\r\\n    ...  \n",
      "16  \\n\\nEdit                              \\r\\n    ...  \n",
      "17  \\n\\nEdit                              \\r\\n    ...  \n",
      "18  \\n\\nEdit                              \\r\\n    ...  \n",
      "19  \\n\\nEdit                              \\r\\n    ...  \n",
      "20  \\n\\nEdit                              \\r\\n    ...  \n",
      "21  \\n\\nEdit                              \\r\\n    ...  \n",
      "22  \\n\\nEdit                              \\r\\n    ...  \n",
      "23  \\n\\nEdit                              \\r\\n    ...  \n",
      "24  \\n\\nEdit                              \\r\\n    ...  \n",
      "25  \\n\\nEdit                              \\r\\n    ...  \n",
      "  no            name git_address\n",
      "0  1  KIM GANG RYONG      wovmxl\n",
      "1  2     KIM DO WOON   dowoonkim\n",
      "2  3     KIM EUI JIN       doogn\n",
      "3  4   NOH YOUNG WOO   ppoocoder\n",
      "4  5  PARK SEUNG JIN      tmdwls\n"
     ]
    }
   ],
   "source": [
    "columns=bs.select('table > tr > th')\n",
    "dfcontent=[]\n",
    "alldfcontents=[]\n",
    "\n",
    "columnlist=[]\n",
    "for column in columns:\n",
    "    columnlist.append(column.text)\n",
    "\n",
    "df=pd.DataFrame(columns=columnlist)\n",
    "print(df)\n",
    "contents=bs.select('table > tr#gitContents')\n",
    "\n",
    "for content in contents:\n",
    "    tds=content.findAll(\"td\")\n",
    "    for td in tds:\n",
    "        if(td.text==\"None\"):\n",
    "            continue;\n",
    "        dfcontent.append(td.text)\n",
    "    alldfcontents.append(dfcontent)\n",
    "    dfcontent=[]\n",
    "df=pd.DataFrame(columns=columnlist, data=alldfcontents,index=None)\n",
    "df.columns=[\"no\",\"name\",\"git_address\",\"edit\"]\n",
    "print(df)\n",
    "finalDf=df[[\"no\",\"name\",\"git_address\"]]\n",
    "print(finalDf.head())"
   ]
  },
  {
   "cell_type": "code",
   "execution_count": 99,
   "metadata": {},
   "outputs": [],
   "source": [
    "# CSV 파일로 저장, encondig 한글깨짐 방지\n",
    "finalDf.to_csv(\"../dataset/gitListData.csv\", encoding='utf-8-sig',index=False)"
   ]
  }
 ],
 "metadata": {
  "kernelspec": {
   "display_name": "Python 3",
   "language": "python",
   "name": "python3"
  },
  "language_info": {
   "codemirror_mode": {
    "name": "ipython",
    "version": 3
   },
   "file_extension": ".py",
   "mimetype": "text/x-python",
   "name": "python",
   "nbconvert_exporter": "python",
   "pygments_lexer": "ipython3",
   "version": "3.6.4"
  }
 },
 "nbformat": 4,
 "nbformat_minor": 2
}
